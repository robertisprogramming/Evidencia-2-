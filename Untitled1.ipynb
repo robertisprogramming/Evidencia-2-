{
  "metadata": {
    "language_info": {
      "name": ""
    },
    "kernelspec": {
      "name": "",
      "display_name": ""
    }
  },
  "nbformat_minor": 4,
  "nbformat": 4,
  "cells": [
    {
      "cell_type": "code",
      "source": "class Persona:\n    def __init__(self, nombre, edad, genero):\n        self.nombre = nombre\n        self.edad = edad\n        self.genero = genero\n\n    def obtener_nombre(self):\n        return self.nombre\n\n    def establecer_nombre(self, nuevo_nombre):\n        self.nombre = nuevo_nombre\n\n    def obtener_edad(self):\n        return self.edad\n\n    def establecer_edad(self, nueva_edad):\n        self.edad = nueva_edad\n\n    def obtener_genero(self):\n        return self.genero\n\n    def establecer_genero(self, nuevo_genero):\n        self.genero = nuevo_genero",
      "metadata": {},
      "execution_count": null,
      "outputs": []
    }
  ]
}